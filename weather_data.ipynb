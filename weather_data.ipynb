{
 "cells": [
  {
   "cell_type": "markdown",
   "metadata": {},
   "source": [
    "### ![](https://ga-dash.s3.amazonaws.com/production/assets/logo-9f88ae6c9c3871690e33280fcf557f33.png)\n",
    "\n",
    "# Unit 3 Lab: Object-Oriented Programming\n",
    "\n",
    "## Overview\n",
    "\n",
    "Welcome to the Unit 3 lab! Now that we've learned some new data structures, let's put them to use in our weather forecasting application.\n",
    "\n",
    "### Goals\n",
    "\n",
    "In this lab, you will:\n",
    "\n",
    "- Write and use complex data types to organize weather data efficiently.\n",
    "- Write classes and methods to calculate and display the weather forecast.\n",
    "\n",
    "\n",
    "---"
   ]
  },
  {
   "cell_type": "markdown",
   "metadata": {},
   "source": [
    "### Restructuring Data\n",
    "\n",
    "Suppose we want to offer the user the opportunity to select the temperature scale in which they view their weather forecast. Create a variable, `temperature_scale`, that is a `set` with the following strings: \n",
    "\n",
    "- \"Fahrenheit\"\n",
    "- \"Celsius\"\n",
    "- \"Kelvin\"\n",
    "\n",
    "Print the variable `temperature_scale`."
   ]
  },
  {
   "cell_type": "code",
   "execution_count": 1,
   "metadata": {},
   "outputs": [
    {
     "name": "stdout",
     "output_type": "stream",
     "text": [
      "{'Kelvin', 'Celsius', 'Fahrenheit'}\n"
     ]
    }
   ],
   "source": [
    "# Enter your code below:\n",
    "temperature_scale = {\"Fahrenheit\", \"Celsius\", \"Kelvin\"}\n",
    "print(temperature_scale)\n"
   ]
  },
  {
   "cell_type": "code",
   "execution_count": 52,
   "metadata": {},
   "outputs": [],
   "source": [
    "one_day_of_hourly_temperatures = [67,67,68,69,71,73,75,76,79,81,81,80,82,81,81,80,78,75,72,70,67,65,66,66]\n",
    "one_day_of_hourly_humidity = [60,65,65,70,70,70,70,75,75,75,75,80,80,85,85,85,85,80,80,80,80,80,80,80]\n",
    "one_day_of_hourly_rainfall = [0,0,0,0.1,0.1,0.05,0.1,0.15,0.2,0.3,0.3,0.5,0,0,0,0,0,0,0,0,0,0,0,0]\n",
    "hours_of_day = list(range(len(one_day_of_hourly_temperatures))) #this will be a sequence from 0-23\n",
    "# Enter your code below:\n"
   ]
  },
  {
   "cell_type": "code",
   "execution_count": 53,
   "metadata": {},
   "outputs": [],
   "source": [
    "hour_zero = {\n",
    "    'hour': 0,\n",
    "    'temperature': 67,\n",
    "    'humidity': 60,\n",
    "    'rainfall': 0,\n",
    "}"
   ]
  },
  {
   "cell_type": "code",
   "execution_count": 54,
   "metadata": {},
   "outputs": [],
   "source": [
    "weather_data = []\n",
    "for idx, _ in enumerate(one_day_of_hourly_temperatures):\n",
    "    temp_dictionary = {\n",
    "        'hour' : idx,\n",
    "        'temperature' : one_day_of_hourly_temperatures[idx],\n",
    "        'humidity' : one_day_of_hourly_humidity[idx],\n",
    "        'rainfall' : one_day_of_hourly_rainfall[idx]\n",
    "    }\n",
    "    weather_data.append(temp_dictionary)"
   ]
  },
  {
   "cell_type": "code",
   "execution_count": 51,
   "metadata": {},
   "outputs": [
    {
     "data": {
      "text/plain": [
       "[{'hour': 0, 'temperature': 67, 'humidity': 60, 'rainfall': 0},\n",
       " {'hour': 1, 'temperature': 67, 'humidity': 65, 'rainfall': 0},\n",
       " {'hour': 2, 'temperature': 68, 'humidity': 65, 'rainfall': 0},\n",
       " {'hour': 3, 'temperature': 69, 'humidity': 70, 'rainfall': 0.1},\n",
       " {'hour': 4, 'temperature': 71, 'humidity': 70, 'rainfall': 0.1},\n",
       " {'hour': 5, 'temperature': 73, 'humidity': 70, 'rainfall': 0.05},\n",
       " {'hour': 6, 'temperature': 75, 'humidity': 70, 'rainfall': 0.1},\n",
       " {'hour': 7, 'temperature': 76, 'humidity': 75, 'rainfall': 0.15},\n",
       " {'hour': 8, 'temperature': 79, 'humidity': 75, 'rainfall': 0.2},\n",
       " {'hour': 9, 'temperature': 81, 'humidity': 75, 'rainfall': 0.3},\n",
       " {'hour': 10, 'temperature': 81, 'humidity': 75, 'rainfall': 0.3},\n",
       " {'hour': 11, 'temperature': 80, 'humidity': 80, 'rainfall': 0.5},\n",
       " {'hour': 12, 'temperature': 82, 'humidity': 80, 'rainfall': 0},\n",
       " {'hour': 13, 'temperature': 81, 'humidity': 85, 'rainfall': 0},\n",
       " {'hour': 14, 'temperature': 81, 'humidity': 85, 'rainfall': 0},\n",
       " {'hour': 15, 'temperature': 80, 'humidity': 85, 'rainfall': 0},\n",
       " {'hour': 16, 'temperature': 78, 'humidity': 85, 'rainfall': 0},\n",
       " {'hour': 17, 'temperature': 75, 'humidity': 80, 'rainfall': 0},\n",
       " {'hour': 18, 'temperature': 72, 'humidity': 80, 'rainfall': 0},\n",
       " {'hour': 19, 'temperature': 70, 'humidity': 80, 'rainfall': 0},\n",
       " {'hour': 20, 'temperature': 67, 'humidity': 80, 'rainfall': 0},\n",
       " {'hour': 21, 'temperature': 65, 'humidity': 80, 'rainfall': 0},\n",
       " {'hour': 22, 'temperature': 66, 'humidity': 80, 'rainfall': 0},\n",
       " {'hour': 23, 'temperature': 66, 'humidity': 80, 'rainfall': 0}]"
      ]
     },
     "execution_count": 51,
     "metadata": {},
     "output_type": "execute_result"
    }
   ],
   "source": [
    "weather_data"
   ]
  },
  {
   "cell_type": "code",
   "execution_count": 23,
   "metadata": {},
   "outputs": [
    {
     "data": {
      "text/plain": [
       "[0,\n",
       " 1,\n",
       " 2,\n",
       " 3,\n",
       " 4,\n",
       " 5,\n",
       " 6,\n",
       " 7,\n",
       " 8,\n",
       " 9,\n",
       " 10,\n",
       " 11,\n",
       " 12,\n",
       " 13,\n",
       " 14,\n",
       " 15,\n",
       " 16,\n",
       " 17,\n",
       " 18,\n",
       " 19,\n",
       " 20,\n",
       " 21,\n",
       " 22,\n",
       " 23]"
      ]
     },
     "execution_count": 23,
     "metadata": {},
     "output_type": "execute_result"
    }
   ],
   "source": [
    "list(range(len(one_day_of_hourly_temperatures))) "
   ]
  },
  {
   "cell_type": "markdown",
   "metadata": {},
   "source": [
    "Using your `weather_data` list, print the following with one line of code for each `print` statement: \n",
    "- Temperature at 2 p.m.\n",
    "- Humidity at 11 p.m.\n",
    "- Rainfall at 9 a.m."
   ]
  },
  {
   "cell_type": "code",
   "execution_count": 60,
   "metadata": {},
   "outputs": [
    {
     "name": "stdout",
     "output_type": "stream",
     "text": [
      "81\n",
      "80\n",
      "0.3\n"
     ]
    }
   ],
   "source": [
    "print(weather_data[14]['temperature'])\n",
    "print(weather_data[23]['humidity'])\n",
    "print(weather_data[9]['rainfall'])"
   ]
  },
  {
   "cell_type": "markdown",
   "metadata": {},
   "source": [
    "---\n",
    "### Creating a `Forecast` Class\n",
    "\n",
    "Start by creating a `Forecast` class that accepts one argument, `location`, and assigns it as an instance attribute to `self.location`."
   ]
  },
  {
   "cell_type": "code",
   "execution_count": 62,
   "metadata": {},
   "outputs": [],
   "source": [
    "# Enter your code below:\n",
    "class Forecast:\n",
    "    \n",
    "    def __init__(self, location):\n",
    "        self.location = location\n",
    "    \n",
    "    def get_daily_high(self):\n",
    "        return max(one_day_of_hourly_temperatures)\n",
    "    \n",
    "    def get_daily_low(self):\n",
    "        return min(one_day_of_hourly_temperatures)\n",
    "    \n",
    "    def get_daily_chance_of_rain(self):\n",
    "        number_of_years_of_data = 10\n",
    "        times_it_has_rained = 0\n",
    "        \n",
    "        if sum(one_day_of_hourly_rainfall) > 0:\n",
    "            times_it_has_rained += 1\n",
    "            \n",
    "        return times_it_has_rained / number_of_years_of_data * 100\n",
    "        "
   ]
  },
  {
   "cell_type": "markdown",
   "metadata": {},
   "source": [
    "---\n",
    "### Calculation Methods\n",
    "\n",
    "Create two methods within the `Forecast` class:\n",
    "\n",
    "- `get_daily_high()`\n",
    "- `get_daily_low()`\n",
    "\n",
    "Use the built-in `max()` and `min()` functions on `one_day_of_hourly_temperatures` to return the daily high and low temperatures.\n",
    "\n",
    "Create a third method within the `Forecast` class called `get_daily_chance_of_rain()`. This method should:\n",
    "- Create a variable named `number_of_years_of_data` and set it to `10`.\n",
    "- Create a variable named `times_it_has_rained` and set it to `0`.\n",
    "- Calculate the sum of rainfall for all 24 hours of `one_day_of_hourly_temperatures`.\n",
    "  - If the sum of all 24 hours is greater than 0, increase `times_it_has_rained` by 1.\n",
    "  - Convert `times_it_has_rained` to a percentage by dividing it by `number_of_years_of_data` and multiplying it by 100.\n",
    "  - Return the final value.\n",
    "\n",
    "_Note: We'll modify these three methods to process live data in future labs. For now, we're setting up the basic logic on test data._"
   ]
  },
  {
   "cell_type": "code",
   "execution_count": null,
   "metadata": {
    "collapsed": true
   },
   "outputs": [],
   "source": [
    "# Copy and paste the Forecast class you built in the previous cell and add the new features to it below:\n",
    "class Forecast:\n",
    "    \n",
    "    def __init__(self, location):\n",
    "        self.location = location\n",
    "    \n",
    "    def get_daily_high(self):\n",
    "        return max(one_day_of_hourly_temperatures)\n",
    "    \n",
    "    def get_daily_low(self):\n",
    "        return min(one_day_of_hourly_temperatures)\n",
    "    \n",
    "    def get_daily_chance_of_rain(self):\n",
    "        number_of_years_of_data = 10\n",
    "        times_it_has_rained = 0\n",
    "        \n",
    "        if sum(one_day_of_hourly_rainfall) > 0:\n",
    "            times_it_has_rained += 1\n",
    "            \n",
    "        return times_it_has_rained / number_of_years_of_data * 100"
   ]
  },
  {
   "cell_type": "markdown",
   "metadata": {},
   "source": [
    "Run the following cell after you're finished to test your output:"
   ]
  },
  {
   "cell_type": "code",
   "execution_count": 63,
   "metadata": {},
   "outputs": [
    {
     "name": "stdout",
     "output_type": "stream",
     "text": [
      "High: 82\n",
      "Low: 65\n",
      "Chance of Rain: 10.0 %\n"
     ]
    }
   ],
   "source": [
    "test = Forecast(\"Austin,TX\")\n",
    "print(\"High:\", test.get_daily_high())\n",
    "print(\"Low:\", test.get_daily_low())\n",
    "print(\"Chance of Rain:\", test.get_daily_chance_of_rain(),'%')"
   ]
  },
  {
   "cell_type": "markdown",
   "metadata": {},
   "source": [
    "---\n",
    "### Display Methods \n",
    "\n",
    "Back in Lab 1, we printed `\"The weather forecast for today is: High of 85, low of 69, with a 15.0% chance of precipitation.\"` using the four following variables and the values we assigned to them: \n",
    "\n",
    "- `message_to_user`\n",
    "- `todays_high`\n",
    "- `todays_low`\n",
    "- `chance_of_precipitation`\n",
    "\n",
    "Now, we're going to display this same message but with the calculated values from the methods we just created.\n",
    "\n",
    "Create a `display_daily_forecast()` method within the `Forecast` class that, when called, will print out a string matching the one above.\n",
    "\n",
    "This method will insert the high temperature, low temperature, and chance of rain by calling the following internal class methods, respectively:\n",
    "\n",
    "- `get_daily_high()`\n",
    "- `get_daily_low()`\n",
    "- `get_daily_chance_of_rain()`\n",
    "\n",
    "\n",
    "Next, create a `display_weekly_forecast()` method within the `Forecast` class:\n",
    "  - When called, this method will print out a message in the format shown in the code block below.\n",
    "  - _Note: We only have one day of data we're currently using, so `High`, `Low`, and `Rain` will all be the same for now._\n",
    "  \n",
    "```\n",
    "This week's weather forecast:             \n",
    "    Monday:    High 82, Low 65, Rain 10.0%            \n",
    "    Tuesday:   High 82, Low 65, Rain 10.0%            \n",
    "    Wednesday: High 82, Low 65, Rain 10.0%            \n",
    "    Thursday:  High 82, Low 65, Rain 10.0%            \n",
    "    Friday:    High 82, Low 65, Rain 10.0%            \n",
    "    Saturday:  High 82, Low 65, Rain 10.0%            \n",
    "    Sunday:    High 82, Low 65, Rain 10.0%\n",
    "```\n",
    "\n",
    "_Hint: Use `\\n` to create new lines in your `print` statement (i.e., `print(\"First line\\nSecond line\")`)._\n",
    "\n",
    "_Hint: Use `\\t` to simulate a tab character in your `print` statement (i.e., `print(\"First Column\\tSecond Column\")`._\n",
    "\n",
    "_Bonus: Convert class methods that are internally called to private methods via the use of the `'underscore'`, `__method_name`._"
   ]
  },
  {
   "cell_type": "code",
   "execution_count": 67,
   "metadata": {},
   "outputs": [],
   "source": [
    "# Copy and paste the Forecast class you built in the previous cell and add the new features to it below:\n",
    "class Forecast:\n",
    "    \n",
    "    def __init__(self, location):\n",
    "        self.location = location\n",
    "    \n",
    "    def get_daily_high(self):\n",
    "        return max(one_day_of_hourly_temperatures)\n",
    "    \n",
    "    def get_daily_low(self):\n",
    "        return min(one_day_of_hourly_temperatures)\n",
    "    \n",
    "    def get_daily_chance_of_rain(self):\n",
    "        number_of_years_of_data = 10\n",
    "        times_it_has_rained = 0\n",
    "        \n",
    "        if sum(one_day_of_hourly_rainfall) > 0:\n",
    "            times_it_has_rained += 1\n",
    "            \n",
    "        return times_it_has_rained / number_of_years_of_data * 100\n",
    "    \n",
    "    def display_daily_forecast(self):\n",
    "        high = self.get_daily_high()\n",
    "        low = self.get_daily_low()\n",
    "        rain = self.get_daily_chance_of_rain()\n",
    "        print(\n",
    "            \"The weather forecast for today is:\",\n",
    "            f\"High of {high}\",\n",
    "            f\"low of {low}, with a {rain}% chance of precipitation.\")\n",
    "        \n",
    "    def display_weekly_forecast(self):\n",
    "        high = self.get_daily_high()\n",
    "        low = self.get_daily_low()\n",
    "        rain = self.get_daily_chance_of_rain()\n",
    "        days_of_week = [\"Monday\", \"Tuesday\", \"Wednesday\",\"Thursday\",\"Friday\", \"Saturday\", \"Sunday\"]\n",
    "        print(\"This week's weather forecast:\\n\")\n",
    "        for day in days_of_week:\n",
    "            print(f\"\\t{day}:\\tHigh {high}, Low {low}, Rain {rain}%\\n\",)\n",
    "\n",
    "\n",
    "        "
   ]
  },
  {
   "cell_type": "markdown",
   "metadata": {},
   "source": [
    "Run the following cell after you're finished to test your output:"
   ]
  },
  {
   "cell_type": "code",
   "execution_count": null,
   "metadata": {
    "collapsed": true,
    "scrolled": true
   },
   "outputs": [],
   "source": [
    "test = Forecast(\"Austin,TX\")\n",
    "test.display_daily_forecast()\n",
    "test.display_weekly_forecast()"
   ]
  },
  {
   "cell_type": "markdown",
   "metadata": {},
   "source": [
    "### Nice work!"
   ]
  }
 ],
 "metadata": {
  "kernelspec": {
   "display_name": "Python 3",
   "language": "python",
   "name": "python3"
  },
  "language_info": {
   "codemirror_mode": {
    "name": "ipython",
    "version": 3
   },
   "file_extension": ".py",
   "mimetype": "text/x-python",
   "name": "python",
   "nbconvert_exporter": "python",
   "pygments_lexer": "ipython3",
   "version": "3.8.3"
  }
 },
 "nbformat": 4,
 "nbformat_minor": 2
}
